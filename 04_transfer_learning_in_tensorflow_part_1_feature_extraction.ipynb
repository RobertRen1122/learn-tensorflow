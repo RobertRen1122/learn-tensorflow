{
  "nbformat": 4,
  "nbformat_minor": 0,
  "metadata": {
    "colab": {
      "name": "04_transfer_learning_in_tensorflow_part_1_feature_extraction.ipynb",
      "provenance": [],
      "collapsed_sections": []
    },
    "kernelspec": {
      "name": "python3",
      "display_name": "Python 3"
    },
    "language_info": {
      "name": "python"
    },
    "accelerator": "GPU"
  },
  "cells": [
    {
      "cell_type": "markdown",
      "metadata": {
        "id": "chhGgBiGt51f"
      },
      "source": [
        "# Transfer Learning with TensorFlow Part 1: Feature Extraction\n",
        "Transfer learning is leveraging a working model's existing architecture and learned patterns for our own problems.\n",
        "\n",
        "There are 2 benefits:\n",
        "1. Can leverage existing neural network architectures proven to work on problems similar to our own.\n",
        "2. Can leverage a working neural network architecture which has already learned patterns on similar data to our own, then we can adapt those patterns to our own data."
      ]
    },
    {
      "cell_type": "code",
      "metadata": {
        "colab": {
          "base_uri": "https://localhost:8080/"
        },
        "id": "P-DtCpEKyj7D",
        "outputId": "d6b18199-d715-44cb-cb36-ef884eb7abbd"
      },
      "source": [
        "# Are we using a GPU\n",
        "!nvidia-smi"
      ],
      "execution_count": null,
      "outputs": [
        {
          "output_type": "stream",
          "text": [
            "Mon Aug  2 14:40:03 2021       \n",
            "+-----------------------------------------------------------------------------+\n",
            "| NVIDIA-SMI 470.42.01    Driver Version: 460.32.03    CUDA Version: 11.2     |\n",
            "|-------------------------------+----------------------+----------------------+\n",
            "| GPU  Name        Persistence-M| Bus-Id        Disp.A | Volatile Uncorr. ECC |\n",
            "| Fan  Temp  Perf  Pwr:Usage/Cap|         Memory-Usage | GPU-Util  Compute M. |\n",
            "|                               |                      |               MIG M. |\n",
            "|===============================+======================+======================|\n",
            "|   0  Tesla P100-PCIE...  Off  | 00000000:00:04.0 Off |                    0 |\n",
            "| N/A   38C    P0    34W / 250W |    865MiB / 16280MiB |      0%      Default |\n",
            "|                               |                      |                  N/A |\n",
            "+-------------------------------+----------------------+----------------------+\n",
            "                                                                               \n",
            "+-----------------------------------------------------------------------------+\n",
            "| Processes:                                                                  |\n",
            "|  GPU   GI   CI        PID   Type   Process name                  GPU Memory |\n",
            "|        ID   ID                                                   Usage      |\n",
            "|=============================================================================|\n",
            "|  No running processes found                                                 |\n",
            "+-----------------------------------------------------------------------------+\n"
          ],
          "name": "stdout"
        }
      ]
    },
    {
      "cell_type": "markdown",
      "metadata": {
        "id": "oO0EeUgYyxYk"
      },
      "source": [
        "### Downloading and becoming one with the data"
      ]
    },
    {
      "cell_type": "code",
      "metadata": {
        "colab": {
          "base_uri": "https://localhost:8080/"
        },
        "id": "AQAiRHu5y2cr",
        "outputId": "b23b819e-a4bd-4ed0-a6a9-8a624a7ce6eb"
      },
      "source": [
        "# Get data (10% of 10 food classes from food101)\n",
        "\n",
        "import zipfile\n",
        "\n",
        "# Download the file\n",
        "!wget https://storage.googleapis.com/ztm_tf_course/food_vision/10_food_classes_10_percent.zip\n",
        "\n",
        "# Unzip the downloaded file\n",
        "zip_ref = zipfile.ZipFile('10_food_classes_10_percent.zip', 'r')\n",
        "zip_ref.extractall()\n",
        "zip_ref.close()"
      ],
      "execution_count": null,
      "outputs": [
        {
          "output_type": "stream",
          "text": [
            "--2021-08-02 14:40:04--  https://storage.googleapis.com/ztm_tf_course/food_vision/10_food_classes_10_percent.zip\n",
            "Resolving storage.googleapis.com (storage.googleapis.com)... 173.194.69.128, 108.177.119.128, 108.177.126.128, ...\n",
            "Connecting to storage.googleapis.com (storage.googleapis.com)|173.194.69.128|:443... connected.\n",
            "HTTP request sent, awaiting response... 200 OK\n",
            "Length: 168546183 (161M) [application/zip]\n",
            "Saving to: ‘10_food_classes_10_percent.zip.2’\n",
            "\n",
            "10_food_classes_10_ 100%[===================>] 160.74M   254MB/s    in 0.6s    \n",
            "\n",
            "2021-08-02 14:40:04 (254 MB/s) - ‘10_food_classes_10_percent.zip.2’ saved [168546183/168546183]\n",
            "\n"
          ],
          "name": "stdout"
        }
      ]
    },
    {
      "cell_type": "code",
      "metadata": {
        "colab": {
          "base_uri": "https://localhost:8080/"
        },
        "id": "B02RHDibzV9_",
        "outputId": "42698fb1-7c59-49f0-eead-822cef480600"
      },
      "source": [
        "# How many images in each folder?\n",
        "import os\n",
        "\n",
        "# Walk through 10 percent data directory and list number of files\n",
        "for dirpath, dirnames, filenames in os.walk('10_food_classes_10_percent'):\n",
        "  print(f'There are {len(dirnames)} directories and {len(filenames)} in \"{dirpath}\"')"
      ],
      "execution_count": null,
      "outputs": [
        {
          "output_type": "stream",
          "text": [
            "There are 2 directories and 0 in \"10_food_classes_10_percent\"\n",
            "There are 10 directories and 0 in \"10_food_classes_10_percent/train\"\n",
            "There are 0 directories and 75 in \"10_food_classes_10_percent/train/ice_cream\"\n",
            "There are 0 directories and 75 in \"10_food_classes_10_percent/train/chicken_curry\"\n",
            "There are 0 directories and 75 in \"10_food_classes_10_percent/train/ramen\"\n",
            "There are 0 directories and 75 in \"10_food_classes_10_percent/train/hamburger\"\n",
            "There are 0 directories and 75 in \"10_food_classes_10_percent/train/grilled_salmon\"\n",
            "There are 0 directories and 75 in \"10_food_classes_10_percent/train/chicken_wings\"\n",
            "There are 0 directories and 75 in \"10_food_classes_10_percent/train/sushi\"\n",
            "There are 0 directories and 75 in \"10_food_classes_10_percent/train/fried_rice\"\n",
            "There are 0 directories and 75 in \"10_food_classes_10_percent/train/steak\"\n",
            "There are 0 directories and 75 in \"10_food_classes_10_percent/train/pizza\"\n",
            "There are 10 directories and 0 in \"10_food_classes_10_percent/test\"\n",
            "There are 0 directories and 250 in \"10_food_classes_10_percent/test/ice_cream\"\n",
            "There are 0 directories and 250 in \"10_food_classes_10_percent/test/chicken_curry\"\n",
            "There are 0 directories and 250 in \"10_food_classes_10_percent/test/ramen\"\n",
            "There are 0 directories and 250 in \"10_food_classes_10_percent/test/hamburger\"\n",
            "There are 0 directories and 250 in \"10_food_classes_10_percent/test/grilled_salmon\"\n",
            "There are 0 directories and 250 in \"10_food_classes_10_percent/test/chicken_wings\"\n",
            "There are 0 directories and 250 in \"10_food_classes_10_percent/test/sushi\"\n",
            "There are 0 directories and 250 in \"10_food_classes_10_percent/test/fried_rice\"\n",
            "There are 0 directories and 250 in \"10_food_classes_10_percent/test/steak\"\n",
            "There are 0 directories and 250 in \"10_food_classes_10_percent/test/pizza\"\n"
          ],
          "name": "stdout"
        }
      ]
    },
    {
      "cell_type": "markdown",
      "metadata": {
        "id": "-eYohdMRz7gh"
      },
      "source": [
        "### Creating data loaders\n",
        "Use `ImageDataGenerator`"
      ]
    },
    {
      "cell_type": "code",
      "metadata": {
        "colab": {
          "base_uri": "https://localhost:8080/"
        },
        "id": "lYHPsyhK0YOD",
        "outputId": "d7c62258-0403-4afa-c44f-461fe4a042b3"
      },
      "source": [
        "# Setup data inputs\n",
        "from tensorflow.keras.preprocessing.image import ImageDataGenerator\n",
        "\n",
        "IMAGE_SHAPE = (224, 224)\n",
        "BATCH_SIZE = 32\n",
        "\n",
        "train_dir = '10_food_classes_10_percent/train/'\n",
        "test_dir = '10_food_classes_10_percent/test/'\n",
        "\n",
        "train_datagen = ImageDataGenerator(rescale=1/255.)\n",
        "test_datagen = ImageDataGenerator(rescale=1/255.)\n",
        "\n",
        "print(\"Training images:\")\n",
        "train_data_10_percent = train_datagen.flow_from_directory(train_dir,\n",
        "                                                          target_size=IMAGE_SHAPE,\n",
        "                                                          batch_size=BATCH_SIZE,\n",
        "                                                          class_mode='categorical')\n",
        "print(\"Testing images:\")\n",
        "test_data = test_datagen.flow_from_directory(test_dir,\n",
        "                                             target_size=IMAGE_SHAPE,\n",
        "                                             batch_size=BATCH_SIZE,\n",
        "                                             class_mode='categorical')"
      ],
      "execution_count": null,
      "outputs": [
        {
          "output_type": "stream",
          "text": [
            "Training images:\n",
            "Found 750 images belonging to 10 classes.\n",
            "Testing images:\n",
            "Found 2500 images belonging to 10 classes.\n"
          ],
          "name": "stdout"
        }
      ]
    },
    {
      "cell_type": "code",
      "metadata": {
        "colab": {
          "base_uri": "https://localhost:8080/"
        },
        "id": "hEYnnd8sO1rl",
        "outputId": "080bc0ce-7501-4942-cf4a-3e9ed64a86c0"
      },
      "source": [
        "train_data_10_percent"
      ],
      "execution_count": null,
      "outputs": [
        {
          "output_type": "execute_result",
          "data": {
            "text/plain": [
              "<tensorflow.python.keras.preprocessing.image.DirectoryIterator at 0x7f3cb0e02110>"
            ]
          },
          "metadata": {
            "tags": []
          },
          "execution_count": 85
        }
      ]
    },
    {
      "cell_type": "markdown",
      "metadata": {
        "id": "hk_zA74103ig"
      },
      "source": [
        "### Setting up callbacks (things to run whilst our model trains)\n",
        "Callbacks are extra functionality you can add to your models to be performed during or after training. Some of the most popular callbacks:\n",
        "* Tracking experiments with the TensorBoard callback\n",
        "* Model checkpoint with the ModelCheckpoint callback\n",
        "* Stopping a model from training (before it trains too long and overfits) with the EarlyStopping callback"
      ]
    },
    {
      "cell_type": "code",
      "metadata": {
        "id": "yrAqVJ_m4hK1"
      },
      "source": [
        "# Create TensorBoar callback (functionize because we need to create a new one for each model)\n",
        "import datetime\n",
        "import tensorflow as tf\n",
        "\n",
        "def create_tensorboard_callback(dir_name, experiment_name):\n",
        "  log_dir = dir_name + '/' + experiment_name + '/' + datetime.datetime.now().strftime('%Y%m%d-%H%M%S')\n",
        "  tensorboard_call = tf.keras.callbacks.TensorBoard(log_dir=log_dir)\n",
        "  print(f'Saving TensorBoard log files to: {log_dir}')\n",
        "  return tensorboard_call"
      ],
      "execution_count": null,
      "outputs": []
    },
    {
      "cell_type": "markdown",
      "metadata": {
        "id": "pCO0daPu57h5"
      },
      "source": [
        "## Creating models using TensorFlow Hub\n",
        "In the past we've used Tensorflow to create our own models layer by layer from scratch.  \n",
        "Now we're going to do a similar process, except the majority of our model's layers are going to come from TensorFlow Hub. (Access pretrained models at https://tfhub.dev/)"
      ]
    },
    {
      "cell_type": "code",
      "metadata": {
        "id": "9DFK_1ZMEcso"
      },
      "source": [
        "# Compare the following 2 models\n",
        "resnet_url = 'https://tfhub.dev/google/imagenet/resnet_v2_50/feature_vector/5'\n",
        "efficientnet_url = 'https://tfhub.dev/tensorflow/efficientnet/b0/feature-vector/1'"
      ],
      "execution_count": null,
      "outputs": []
    },
    {
      "cell_type": "code",
      "metadata": {
        "id": "MR-qZKIhH7Vb"
      },
      "source": [
        "# Import dependencies\n",
        "import tensorflow as tf\n",
        "import tensorflow_hub as hub\n",
        "from tensorflow.keras import layers"
      ],
      "execution_count": null,
      "outputs": []
    },
    {
      "cell_type": "code",
      "metadata": {
        "colab": {
          "base_uri": "https://localhost:8080/"
        },
        "id": "x00QQ-1cJ8PC",
        "outputId": "7785f607-115c-48a5-cd16-ce9dbc899707"
      },
      "source": [
        "IMAGE_SHAPE, IMAGE_SHAPE + (3, )"
      ],
      "execution_count": null,
      "outputs": [
        {
          "output_type": "execute_result",
          "data": {
            "text/plain": [
              "((224, 224), (224, 224, 3))"
            ]
          },
          "metadata": {
            "tags": []
          },
          "execution_count": 89
        }
      ]
    },
    {
      "cell_type": "code",
      "metadata": {
        "id": "mxSIARGiIOeJ"
      },
      "source": [
        "# Let's make a create_model() function to create a model from a URL\n",
        "def create_model(model_url, num_classes=10):\n",
        "  '''\n",
        "  Takes a TensorFlow Hub URL and creates a Keras Sequential model with it.\n",
        "\n",
        "  Args:\n",
        "    model_url (str): A TensorFlow Hub feature extraction URL.\n",
        "    num_classes (int): Number of output neurons in the output layer,\n",
        "      should be equal to number of target classes, default 10.\n",
        "  \n",
        "  Returns:\n",
        "    An uncompiled Keras Sequential model with model_url as feature extractor\n",
        "    layer and Dense output layer with num_classes output neurons.\n",
        "  '''\n",
        "  # Download the pretrained model and save it as a keras layer\n",
        "  feature_extractor_layer = hub.KerasLayer(model_url,\n",
        "                                           trainable=False, # freeze the already learned patterns\n",
        "                                           name='feature_extraction_layer',\n",
        "                                           input_shape=IMAGE_SHAPE+(3,)) # IMAGE_SHAPE: (224, 224) -> (224, 224, 3)\n",
        "\n",
        "  # Create our own model\n",
        "  model = tf.keras.Sequential([\n",
        "    feature_extractor_layer,\n",
        "    layers.Dense(num_classes, activation='softmax', name='output_layer')\n",
        "  ])\n",
        "\n",
        "  return model"
      ],
      "execution_count": null,
      "outputs": []
    },
    {
      "cell_type": "markdown",
      "metadata": {
        "id": "q-2Xh0TILD3O"
      },
      "source": [
        "### Creating and testing ResNet TensorFlow Hub Feature Extraction model\n"
      ]
    },
    {
      "cell_type": "code",
      "metadata": {
        "id": "ulGxtSktL67N"
      },
      "source": [
        "# Create ResNet model\n",
        "resnet_model = create_model(resnet_url,\n",
        "                            num_classes=train_data_10_percent.num_classes)"
      ],
      "execution_count": null,
      "outputs": []
    },
    {
      "cell_type": "code",
      "metadata": {
        "colab": {
          "base_uri": "https://localhost:8080/"
        },
        "id": "vyq8B8KkMVS5",
        "outputId": "f535a542-b202-4fdd-bf8f-92cdffec093d"
      },
      "source": [
        "resnet_model.summary()"
      ],
      "execution_count": null,
      "outputs": [
        {
          "output_type": "stream",
          "text": [
            "Model: \"sequential_7\"\n",
            "_________________________________________________________________\n",
            "Layer (type)                 Output Shape              Param #   \n",
            "=================================================================\n",
            "feature_extraction_layer (Ke (None, 2048)              23564800  \n",
            "_________________________________________________________________\n",
            "output_layer (Dense)         (None, 10)                20490     \n",
            "=================================================================\n",
            "Total params: 23,585,290\n",
            "Trainable params: 20,490\n",
            "Non-trainable params: 23,564,800\n",
            "_________________________________________________________________\n"
          ],
          "name": "stdout"
        }
      ]
    },
    {
      "cell_type": "code",
      "metadata": {
        "id": "ClEwVoiLMuMV"
      },
      "source": [
        "# Compile the resnet model\n",
        "resnet_model.compile(loss='categorical_crossentropy',\n",
        "                     optimizer=tf.keras.optimizers.Adam(),\n",
        "                     metrics=['accuracy'])"
      ],
      "execution_count": null,
      "outputs": []
    },
    {
      "cell_type": "code",
      "metadata": {
        "colab": {
          "base_uri": "https://localhost:8080/"
        },
        "id": "SKzMnkRWNJYM",
        "outputId": "37371703-38f8-4bd9-f856-6c63914d0004"
      },
      "source": [
        "resnet_history = resnet_model.fit(train_data_10_percent,\n",
        "                                  epochs=5,\n",
        "                                  steps_per_epoch=len(train_data_10_percent),\n",
        "                                  validation_data=test_data,\n",
        "                                  validation_steps=len(test_data),\n",
        "                                  # Add TensorBoard callback to model (callbacks parameter takes a list)\n",
        "                                  callbacks=[create_tensorboard_callback(dir_name=\"tensorflow_hub\", # save experiment logs here\n",
        "                                                                         experiment_name=\"resnet50V2\")]) # name of log files"
      ],
      "execution_count": null,
      "outputs": [
        {
          "output_type": "stream",
          "text": [
            "Saving TensorBoard log files to: tensorflow_hub/resnet50V2/20210802-170304\n",
            "Epoch 1/5\n",
            "24/24 [==============================] - 20s 726ms/step - loss: 1.9748 - accuracy: 0.3373 - val_loss: 1.2542 - val_accuracy: 0.6056\n",
            "Epoch 2/5\n",
            "24/24 [==============================] - 14s 620ms/step - loss: 0.9153 - accuracy: 0.7293 - val_loss: 0.8488 - val_accuracy: 0.7376\n",
            "Epoch 3/5\n",
            "24/24 [==============================] - 14s 612ms/step - loss: 0.6347 - accuracy: 0.8160 - val_loss: 0.7509 - val_accuracy: 0.7644\n",
            "Epoch 4/5\n",
            "24/24 [==============================] - 14s 615ms/step - loss: 0.4845 - accuracy: 0.8640 - val_loss: 0.6908 - val_accuracy: 0.7812\n",
            "Epoch 5/5\n",
            "24/24 [==============================] - 15s 650ms/step - loss: 0.3882 - accuracy: 0.9093 - val_loss: 0.6794 - val_accuracy: 0.7760\n"
          ],
          "name": "stdout"
        }
      ]
    },
    {
      "cell_type": "code",
      "metadata": {
        "id": "JPaqmS7o4GOj"
      },
      "source": [
        "def plot_loss_curves(history):\n",
        "  '''\n",
        "  Returns separate loss curves for training and validation metrics\n",
        "\n",
        "  Args:\n",
        "    history: TensorFlow History object\n",
        "  '''\n",
        "  loss = history.history['loss']\n",
        "  val_loss = history.history['val_loss']\n",
        "  accuracy = history.history['accuracy']\n",
        "  val_accuracy = history.history['val_accuracy']\n",
        "\n",
        "  epochs = range(len(history.history['loss']))\n",
        "\n",
        "  # Plot loss\n",
        "  plt.figure()\n",
        "  plt.plot(epochs, loss, label='Training loss')\n",
        "  plt.plot(epochs, val_loss, label='val_loss')\n",
        "  plt.title('loss')\n",
        "  plt.xlabel('epochs')\n",
        "  plt.legend()\n",
        "\n",
        "  # Plot accuracy\n",
        "  plt.figure()\n",
        "  plt.plot(epochs, accuracy, label='Training accuracy')\n",
        "  plt.plot(epochs, val_accuracy, label='val_accuracy')\n",
        "  plt.title('accuracy')\n",
        "  plt.xlabel('epochs')\n",
        "  plt.legend()"
      ],
      "execution_count": null,
      "outputs": []
    },
    {
      "cell_type": "code",
      "metadata": {
        "id": "zcoq1GgANryV",
        "colab": {
          "base_uri": "https://localhost:8080/",
          "height": 573
        },
        "outputId": "244bf4c5-7e50-4ba2-831f-7cd258335ea7"
      },
      "source": [
        "import pandas as pd\n",
        "import matplotlib.pyplot as plt\n",
        "plot_loss_curves(resnet_history)"
      ],
      "execution_count": null,
      "outputs": [
        {
          "output_type": "display_data",
          "data": {
            "image/png": "[encoded data removed]",
            "text/plain": [
              "<Figure size 432x288 with 1 Axes>"
            ]
          },
          "metadata": {
            "tags": [],
            "needs_background": "light"
          }
        },
        {
          "output_type": "display_data",
          "data": {
            "image/png": "[encoded data removed]",
            "text/plain": [
              "<Figure size 432x288 with 1 Axes>"
            ]
          },
          "metadata": {
            "tags": [],
            "needs_background": "light"
          }
        }
      ]
    },
    {
      "cell_type": "markdown",
      "metadata": {
        "id": "wsoErQ174C3E"
      },
      "source": [
        "### Creating and testing EfficientNetB0 TensorFlow Hub Feature Extraction Mode"
      ]
    },
    {
      "cell_type": "code",
      "metadata": {
        "colab": {
          "base_uri": "https://localhost:8080/"
        },
        "id": "HzHuLTns6JGp",
        "outputId": "982a5ddb-1cec-4708-d123-d17714ade83c"
      },
      "source": [
        "efficientnet_model = create_model(efficientnet_url,\n",
        "                                  num_classes=train_data_10_percent.num_classes)\n",
        "efficientnet_model.summary()"
      ],
      "execution_count": null,
      "outputs": [
        {
          "output_type": "stream",
          "text": [
            "Model: \"sequential_9\"\n",
            "_________________________________________________________________\n",
            "Layer (type)                 Output Shape              Param #   \n",
            "=================================================================\n",
            "feature_extraction_layer (Ke (None, 1280)              4049564   \n",
            "_________________________________________________________________\n",
            "output_layer (Dense)         (None, 10)                12810     \n",
            "=================================================================\n",
            "Total params: 4,062,374\n",
            "Trainable params: 12,810\n",
            "Non-trainable params: 4,049,564\n",
            "_________________________________________________________________\n"
          ],
          "name": "stdout"
        }
      ]
    },
    {
      "cell_type": "code",
      "metadata": {
        "colab": {
          "base_uri": "https://localhost:8080/",
          "height": 312
        },
        "id": "334O-FnC8Wry",
        "outputId": "cf2310f8-19b8-4fb8-9a97-bdb6eafc3390"
      },
      "source": [
        "from tensorflow.keras.utils import plot_model\n",
        "plot_model(efficientnet_model, show_shapes=True)"
      ],
      "execution_count": null,
      "outputs": [
        {
          "output_type": "execute_result",
          "data": {
            "image/png": "[encoded data removed]",
            "text/plain": [
              "<IPython.core.display.Image object>"
            ]
          },
          "metadata": {
            "tags": []
          },
          "execution_count": 115
        }
      ]
    },
    {
      "cell_type": "code",
      "metadata": {
        "id": "uThXx3fo7Inv"
      },
      "source": [
        "efficientnet_model.compile(loss='categorical_crossentropy',\n",
        "                        optimizer=tf.keras.optimizers.Adam(),\n",
        "                        metrics=['accuracy'])"
      ],
      "execution_count": null,
      "outputs": []
    },
    {
      "cell_type": "code",
      "metadata": {
        "colab": {
          "base_uri": "https://localhost:8080/"
        },
        "id": "BcQLEN297ZzE",
        "outputId": "dd42ee73-d7be-4ade-adaf-8f79f6d6db2a"
      },
      "source": [
        "efficientnet_history = efficientnet_model.fit(train_data_10_percent,\n",
        "                                              epochs=5,\n",
        "                                              steps_per_epoch=len(train_data_10_percent),\n",
        "                                              validation_data=test_data,\n",
        "                                              validation_steps=len(test_data),\n",
        "                                              callbacks=[create_tensorboard_callback(dir_name='tensorflow_hub',\n",
        "                                                                                      experiment_name='efficientnetb0')])"
      ],
      "execution_count": null,
      "outputs": [
        {
          "output_type": "stream",
          "text": [
            "Saving TensorBoard log files to: tensorflow_hub/efficientnetb0/20210802-173914\n",
            "Epoch 1/5\n",
            "24/24 [==============================] - 25s 766ms/step - loss: 1.8629 - accuracy: 0.4493 - val_loss: 1.3104 - val_accuracy: 0.6996\n",
            "Epoch 2/5\n",
            "24/24 [==============================] - 14s 618ms/step - loss: 1.0657 - accuracy: 0.7693 - val_loss: 0.8775 - val_accuracy: 0.8120\n",
            "Epoch 3/5\n",
            "24/24 [==============================] - 14s 601ms/step - loss: 0.7587 - accuracy: 0.8347 - val_loss: 0.7016 - val_accuracy: 0.8420\n",
            "Epoch 4/5\n",
            "24/24 [==============================] - 14s 609ms/step - loss: 0.6094 - accuracy: 0.8640 - val_loss: 0.6138 - val_accuracy: 0.8536\n",
            "Epoch 5/5\n",
            "24/24 [==============================] - 15s 636ms/step - loss: 0.5135 - accuracy: 0.8867 - val_loss: 0.5613 - val_accuracy: 0.8580\n"
          ],
          "name": "stdout"
        }
      ]
    },
    {
      "cell_type": "code",
      "metadata": {
        "colab": {
          "base_uri": "https://localhost:8080/",
          "height": 573
        },
        "id": "Lm7m-nN48A0M",
        "outputId": "18bdbad4-2adf-4146-d8d6-ab327e77a8f3"
      },
      "source": [
        "plot_loss_curves(efficientnet_history)"
      ],
      "execution_count": null,
      "outputs": [
        {
          "output_type": "display_data",
          "data": {
            "image/png": "[encoded data removed]",
            "text/plain": [
              "<Figure size 432x288 with 1 Axes>"
            ]
          },
          "metadata": {
            "tags": [],
            "needs_background": "light"
          }
        },
        {
          "output_type": "display_data",
          "data": {
            "image/png": "[encoded data removed]",
            "text/plain": [
              "<Figure size 432x288 with 1 Axes>"
            ]
          },
          "metadata": {
            "tags": [],
            "needs_background": "light"
          }
        }
      ]
    },
    {
      "cell_type": "code",
      "metadata": {
        "colab": {
          "base_uri": "https://localhost:8080/"
        },
        "id": "xOywx96YA5hC",
        "outputId": "adc43621-a023-4e24-e85a-9d45451f2366"
      },
      "source": [
        "# How many layers does our efficientnetb0 feature extractor have?\n",
        "len(efficientnet_model.layers[0].weights)"
      ],
      "execution_count": null,
      "outputs": [
        {
          "output_type": "execute_result",
          "data": {
            "text/plain": [
              "309"
            ]
          },
          "metadata": {
            "tags": []
          },
          "execution_count": 121
        }
      ]
    },
    {
      "cell_type": "markdown",
      "metadata": {
        "id": "lXi2L4eK9CVK"
      },
      "source": [
        "## Different types of transfer learning\n",
        "* **As is** trannsfer learning - using an existing model with no changes whatsoever (e.g. using ImageNet model on 1000 ImageNet classes)\n",
        "* **Feature extraction** - use the prelearned patterns of an existing model (e.g. EfficientNetB0 trained on ImageNet) and adjust the output layer for your own problem. (e.g. 1000 classes -> 10 classes)\n",
        "* **Fine-tuning** transfer learning - use the prelearned patterns of an existing model and \"fine-tune\" or all of the underlying layers (including new output layers)\n"
      ]
    },
    {
      "cell_type": "markdown",
      "metadata": {
        "id": "ddjMHS4uAyAC"
      },
      "source": [
        "## Comparing out model results using TensorBoard"
      ]
    },
    {
      "cell_type": "code",
      "metadata": {
        "colab": {
          "base_uri": "https://localhost:8080/"
        },
        "id": "zyGEsQYUCovo",
        "outputId": "3510f338-83a6-48f3-d117-760395c5fbad"
      },
      "source": [
        "# Upload TensorBoard dev records\n",
        "!tensorboard dev upload --logdir ./tensorflow_hub/ \\\n",
        "--name \"EfficientNetB0 vs. ResNet 50V2\" \\\n",
        "--description \"Comparing 2 different TF Hub feature extraction model architectures using 10% of the training data\" \\\n",
        "--one_shot"
      ],
      "execution_count": null,
      "outputs": [
        {
          "output_type": "stream",
          "text": [
            "2021-08-02 18:11:47.765561: I tensorflow/stream_executor/platform/default/dso_loader.cc:53] Successfully opened dynamic library libcudart.so.11.0\n",
            "\n",
            "***** TensorBoard Uploader *****\n",
            "\n",
            "This will upload your TensorBoard logs to https://tensorboard.dev/ from\n",
            "the following directory:\n",
            "\n",
            "./tensorflow_hub/\n",
            "\n",
            "This TensorBoard will be visible to everyone. Do not upload sensitive\n",
            "data.\n",
            "\n",
            "Your use of this service is subject to Google's Terms of Service\n",
            "<https://policies.google.com/terms> and Privacy Policy\n",
            "<https://policies.google.com/privacy>, and TensorBoard.dev's Terms of Service\n",
            "<https://tensorboard.dev/policy/terms/>.\n",
            "\n",
            "This notice will not be shown again while you are logged into the uploader.\n",
            "To log out, run `tensorboard dev auth revoke`.\n",
            "\n",
            "Continue? (yes/NO) yes\n",
            "\n",
            "Please visit this URL to authorize this application: https://accounts.google.com/o/oauth2/auth?response_type=code&client_id=373649185512-8v619h5kft38l4456nm2dj4ubeqsrvh6.apps.googleusercontent.com&redirect_uri=urn%3Aietf%3Awg%3Aoauth%3A2.0%3Aoob&scope=openid+https%3A%2F%2Fwww.googleapis.com%2Fauth%2Fuserinfo.email&state=GeqBa52lAMIfZRrnXJ4oNYbl6f62pq&prompt=consent&access_type=offline\n",
            "Enter the authorization code: 4/1AX4XfWhR8NXl28p_0fk5e1HL1dmYnBft5M-wT9_Ip-nu4oWPoyDZ0xUtg5w\n",
            "\n",
            "Data for the \"text\" plugin is now uploaded to TensorBoard.dev! Note that uploaded data is public. If you do not want to upload data for this plugin, use the \"--plugins\" command line argument.\n",
            "\n",
            "New experiment created. View your TensorBoard at: https://tensorboard.dev/experiment/kC0EMPAnS86kKb0GEPzPUA/\n",
            "\n",
            "\u001b[1m[2021-08-02T18:12:40]\u001b[0m Started scanning logdir.\n",
            "\u001b[1m[2021-08-02T18:12:49]\u001b[0m Total uploaded: 138 scalars, 0 tensors, 6 binary objects (14.8 MB)\n",
            "\u001b[1m[2021-08-02T18:12:49]\u001b[0m Done scanning logdir.\n",
            "\n",
            "\n",
            "Done. View your TensorBoard at https://tensorboard.dev/experiment/kC0EMPAnS86kKb0GEPzPUA/\n"
          ],
          "name": "stdout"
        }
      ]
    },
    {
      "cell_type": "markdown",
      "metadata": {
        "id": "wXMw62D5EF5J"
      },
      "source": [
        "Tensorboard experiments are uploaded: https://tensorboard.dev/experiment/kC0EMPAnS86kKb0GEPzPUA/"
      ]
    },
    {
      "cell_type": "code",
      "metadata": {
        "colab": {
          "base_uri": "https://localhost:8080/"
        },
        "id": "oLAYnKghEpFO",
        "outputId": "7f1cd52c-0ec7-427d-bac1-e72f82d641ac"
      },
      "source": [
        "# Check out what TensorBoard experiments you have\n",
        "!tensorboard dev list"
      ],
      "execution_count": null,
      "outputs": [
        {
          "output_type": "stream",
          "text": [
            "2021-08-02 18:19:55.737983: I tensorflow/stream_executor/platform/default/dso_loader.cc:53] Successfully opened dynamic library libcudart.so.11.0\n",
            "Data for the \"text\" plugin is now uploaded to TensorBoard.dev! Note that uploaded data is public. If you do not want to upload data for this plugin, use the \"--plugins\" command line argument.\n",
            "https://tensorboard.dev/experiment/kC0EMPAnS86kKb0GEPzPUA/\n",
            "\tName                 EfficientNetB0 vs. ResNet 50V2\n",
            "\tDescription          Comparing 2 different TF Hub feature extraction model architectures using 10% of the training data\n",
            "\tId                   kC0EMPAnS86kKb0GEPzPUA\n",
            "\tCreated              2021-08-02 18:12:39 (7 minutes ago)\n",
            "\tUpdated              2021-08-02 18:12:49 (7 minutes ago)\n",
            "\tRuns                 12\n",
            "\tTags                 5\n",
            "\tScalars              138\n",
            "\tTensor bytes         0\n",
            "\tBinary object bytes  15505816\n",
            "Total: 1 experiment(s)\n"
          ],
          "name": "stdout"
        }
      ]
    },
    {
      "cell_type": "code",
      "metadata": {
        "id": "4lrH7MFnF_sq"
      },
      "source": [
        "# Delete an experiment\n",
        "# !tensorboard dev delete --experiment_id kC0EMPAnS86kKb0GEPzPUA"
      ],
      "execution_count": null,
      "outputs": []
    }
  ]
}